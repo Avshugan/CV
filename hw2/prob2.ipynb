{
 "cells": [
  {
   "cell_type": "code",
   "execution_count": 1,
   "metadata": {},
   "outputs": [],
   "source": [
    "import numpy as np\n",
    "import matplotlib.pyplot as plt\n",
    "from time import time\n",
    "import cv2\n",
    "\n",
    "plt.rcParams['figure.figsize'] = (10.0, 8.0) # set default size of plots\n",
    "plt.rcParams['image.interpolation'] = 'nearest'\n",
    "plt.rcParams['image.cmap'] = 'gray'\n",
    "\n",
    "%matplotlib inline"
   ]
  },
  {
   "cell_type": "code",
   "execution_count": 2,
   "metadata": {},
   "outputs": [],
   "source": [
    "# Load template and image in grayscale\n",
    "img = cv2.imread('img/shelf.jpg')\n",
    "img = cv2.cvtColor(img, cv2.COLOR_BGR2RGB)\n",
    "img_grey = cv2.imread('img/shelf.jpg', 0)\n",
    "temp = cv2.imread('img/template.jpg')\n",
    "temp = cv2.cvtColor(temp, cv2.COLOR_BGR2RGB)\n",
    "temp_grey = cv2.imread('img/template.jpg', 0)"
   ]
  },
  {
   "cell_type": "code",
   "execution_count": 71,
   "metadata": {},
   "outputs": [],
   "source": [
    "img2 = cv2.imread('img/shelf_soldout.jpg')\n",
    "img2 = cv2.cvtColor(img2, cv2.COLOR_BGR2RGB)\n",
    "img2_grey = cv2.imread('img/shelf_soldout.jpg', 0)"
   ]
  },
  {
   "cell_type": "code",
   "execution_count": 5,
   "metadata": {},
   "outputs": [],
   "source": [
    "def zero_pad(image, pad_height, pad_width):\n",
    "    \"\"\" Zero-pad an image.\n",
    "\n",
    "    Ex: a 1x1 image [[1]] with pad_height = 1, pad_width = 2 becomes:\n",
    "\n",
    "        [[0, 0, 0, 0, 0],\n",
    "         [0, 0, 1, 0, 0],\n",
    "         [0, 0, 0, 0, 0]]         of shape (3, 5)\n",
    "\n",
    "    Args:\n",
    "        image: numpy array of shape (H, W).\n",
    "        pad_width: width of the zero padding (left and right padding).\n",
    "        pad_height: height of the zero padding (bottom and top padding).\n",
    "\n",
    "    Returns:\n",
    "        out: numpy array of shape (H+2*pad_height, W+2*pad_width).\n",
    "    \"\"\"\n",
    "\n",
    "    out = image.copy()\n",
    "    \n",
    "    z = np.zeros([pad_height, out.shape[1]])\n",
    "    out = np.r_[z.copy(), out, z.copy()]\n",
    "\n",
    "    z = np.zeros([out.shape[0], pad_width])\n",
    "    out = np.c_[z.copy(), out, z.copy()]\n",
    "    return out\n"
   ]
  },
  {
   "cell_type": "code",
   "execution_count": 33,
   "metadata": {},
   "outputs": [],
   "source": [
    "def conv_faster(image, kernel):\n",
    "    Hi, Wi = image.shape\n",
    "    Hk, Wk = kernel.shape\n",
    "    \n",
    "    im = zero_pad(image, Hk // 2, Wk//2)\n",
    "    \n",
    "    Hi, Wi = im.shape\n",
    "    kern = np.r_[kernel, np.zeros([Hi-Hk, Wk])]\n",
    "    kern = np.c_[kern, np.zeros([kern.shape[0] ,Wi-Wk])]\n",
    "\n",
    "    fim = np.fft.fft2(im)  \n",
    "    fim = np.fft.fftshift(fim) \n",
    "    fkern = np.fft.fft2(kern)  \n",
    "    fkern = np.fft.fftshift(fkern)  \n",
    "    \n",
    "    fout = fim*fkern\n",
    "     \n",
    "    out = np.fft.ifftshift(fout)  \n",
    "    out = np.fft.ifft2(out)\n",
    "    out = np.real(out)\n",
    "    \n",
    "    out = np.delete(out, range(Wk-1), 1)\n",
    "    out = np.delete(out, range(Hk-1), 0)\n",
    "    return out.astype(np.int64)"
   ]
  },
  {
   "cell_type": "code",
   "execution_count": 6,
   "metadata": {},
   "outputs": [],
   "source": [
    "def conv_fast(image, kernel):\n",
    "    \"\"\" An efficient implementation of convolution filter.\n",
    "\n",
    "    This function uses element-wise multiplication and np.sum()\n",
    "    to efficiently compute weighted sum of neighborhood at each\n",
    "    pixel.\n",
    "\n",
    "    Hints:\n",
    "        - Use the zero_pad function you implemented above\n",
    "        - There should be two nested for-loops\n",
    "        - You may find np.flip() and np.sum() useful\n",
    "\n",
    "    Args:\n",
    "        image: numpy array of shape (Hi, Wi).\n",
    "        kernel: numpy array of shape (Hk, Wk).\n",
    "\n",
    "    Returns:\n",
    "        out: numpy array of shape (Hi, Wi).\n",
    "    \"\"\"\n",
    "    Hi, Wi = image.shape\n",
    "    Hk, Wk = kernel.shape\n",
    "\n",
    "    \n",
    "    out = np.zeros(image.shape)\n",
    "\n",
    "    im = zero_pad(image, Hk // 2, Wk//2)\n",
    "\n",
    "    for i in range(Hi):\n",
    "        for j in range(Wi):\n",
    "            out[i, j] = np.sum(im[i:i+Hk,j:j+Wk] * np.flip(kernel))\n",
    "    \n",
    "    return out"
   ]
  },
  {
   "cell_type": "code",
   "execution_count": 74,
   "metadata": {},
   "outputs": [],
   "source": [
    "def zero_mean_cross_correlation(f, g):\n",
    "    \"\"\" Zero-mean cross-correlation of f and g.\n",
    "\n",
    "    Subtract the mean of g from g so that its mean becomes zero.\n",
    "\n",
    "    Hint: you should look up useful numpy functions online for calculating the mean.\n",
    "\n",
    "    Args:\n",
    "        f: numpy array of shape (Hf, Wf).\n",
    "        g: numpy array of shape (Hg, Wg).\n",
    "\n",
    "    Returns:\n",
    "        out: numpy array of shape (Hf, Wf).\n",
    "    \"\"\"\n",
    "    Hk, Wk = g.shape\n",
    "\n",
    "    out = np.zeros_like(f)\n",
    "#     f_new = f - np.mean(f)\n",
    "#     out = conv_fast(f_new, g)\n",
    "    f_new = f - conv_faster(f, np.ones(g.shape)/Wk/Hk)\n",
    "    g_new = (g-np.mean(g))\n",
    "    out = conv_faster(f_new, np.flip(g_new))/Wk/Hk\n",
    "\n",
    "    out = np.abs(out)\n",
    "    print(np.min(out))\n",
    "    print(np.max(out))\n",
    "#     print(out)\n",
    "#     out = np.max(out)-out\n",
    "    print(out[35:37, 59:63])\n",
    "\n",
    "    return out"
   ]
  },
  {
   "cell_type": "code",
   "execution_count": 75,
   "metadata": {},
   "outputs": [
    {
     "ename": "ValueError",
     "evalue": "operands could not be broadcast together with shapes (400,1000) (401,1000) ",
     "output_type": "error",
     "traceback": [
      "\u001b[1;31m---------------------------------------------------------------------------\u001b[0m",
      "\u001b[1;31mValueError\u001b[0m                                Traceback (most recent call last)",
      "\u001b[1;32m<ipython-input-75-819270bede4b>\u001b[0m in \u001b[0;36m<module>\u001b[1;34m\u001b[0m\n\u001b[0;32m      1\u001b[0m \u001b[1;31m# Perform cross-correlation between the image and the template\u001b[0m\u001b[1;33m\u001b[0m\u001b[1;33m\u001b[0m\u001b[1;33m\u001b[0m\u001b[0m\n\u001b[1;32m----> 2\u001b[1;33m \u001b[0mout\u001b[0m \u001b[1;33m=\u001b[0m \u001b[0mzero_mean_cross_correlation\u001b[0m\u001b[1;33m(\u001b[0m\u001b[0mimg2_grey\u001b[0m\u001b[1;33m,\u001b[0m \u001b[0mtemp_grey\u001b[0m\u001b[1;33m)\u001b[0m\u001b[1;33m\u001b[0m\u001b[1;33m\u001b[0m\u001b[0m\n\u001b[0m\u001b[0;32m      3\u001b[0m \u001b[1;33m\u001b[0m\u001b[0m\n\u001b[0;32m      4\u001b[0m \u001b[1;31m# Find the location with maximum similarity\u001b[0m\u001b[1;33m\u001b[0m\u001b[1;33m\u001b[0m\u001b[1;33m\u001b[0m\u001b[0m\n\u001b[0;32m      5\u001b[0m \u001b[0my\u001b[0m\u001b[1;33m,\u001b[0m \u001b[0mx\u001b[0m \u001b[1;33m=\u001b[0m \u001b[0mnp\u001b[0m\u001b[1;33m.\u001b[0m\u001b[0munravel_index\u001b[0m\u001b[1;33m(\u001b[0m\u001b[0mout\u001b[0m\u001b[1;33m.\u001b[0m\u001b[0margmax\u001b[0m\u001b[1;33m(\u001b[0m\u001b[1;33m)\u001b[0m\u001b[1;33m,\u001b[0m \u001b[0mout\u001b[0m\u001b[1;33m.\u001b[0m\u001b[0mshape\u001b[0m\u001b[1;33m)\u001b[0m\u001b[1;33m\u001b[0m\u001b[1;33m\u001b[0m\u001b[0m\n",
      "\u001b[1;32m<ipython-input-74-f94270ec1763>\u001b[0m in \u001b[0;36mzero_mean_cross_correlation\u001b[1;34m(f, g)\u001b[0m\n\u001b[0;32m     18\u001b[0m \u001b[1;31m#     f_new = f - np.mean(f)\u001b[0m\u001b[1;33m\u001b[0m\u001b[1;33m\u001b[0m\u001b[1;33m\u001b[0m\u001b[0m\n\u001b[0;32m     19\u001b[0m \u001b[1;31m#     out = conv_fast(f_new, g)\u001b[0m\u001b[1;33m\u001b[0m\u001b[1;33m\u001b[0m\u001b[1;33m\u001b[0m\u001b[0m\n\u001b[1;32m---> 20\u001b[1;33m     \u001b[0mf_new\u001b[0m \u001b[1;33m=\u001b[0m \u001b[0mf\u001b[0m \u001b[1;33m-\u001b[0m \u001b[0mconv_faster\u001b[0m\u001b[1;33m(\u001b[0m\u001b[0mf\u001b[0m\u001b[1;33m,\u001b[0m \u001b[0mnp\u001b[0m\u001b[1;33m.\u001b[0m\u001b[0mones\u001b[0m\u001b[1;33m(\u001b[0m\u001b[0mg\u001b[0m\u001b[1;33m.\u001b[0m\u001b[0mshape\u001b[0m\u001b[1;33m)\u001b[0m\u001b[1;33m/\u001b[0m\u001b[0mWk\u001b[0m\u001b[1;33m/\u001b[0m\u001b[0mHk\u001b[0m\u001b[1;33m)\u001b[0m\u001b[1;33m\u001b[0m\u001b[1;33m\u001b[0m\u001b[0m\n\u001b[0m\u001b[0;32m     21\u001b[0m     \u001b[0mg_new\u001b[0m \u001b[1;33m=\u001b[0m \u001b[1;33m(\u001b[0m\u001b[0mg\u001b[0m\u001b[1;33m-\u001b[0m\u001b[0mnp\u001b[0m\u001b[1;33m.\u001b[0m\u001b[0mmean\u001b[0m\u001b[1;33m(\u001b[0m\u001b[0mg\u001b[0m\u001b[1;33m)\u001b[0m\u001b[1;33m)\u001b[0m\u001b[1;33m\u001b[0m\u001b[1;33m\u001b[0m\u001b[0m\n\u001b[0;32m     22\u001b[0m     \u001b[0mout\u001b[0m \u001b[1;33m=\u001b[0m \u001b[0mconv_faster\u001b[0m\u001b[1;33m(\u001b[0m\u001b[0mf_new\u001b[0m\u001b[1;33m,\u001b[0m \u001b[0mnp\u001b[0m\u001b[1;33m.\u001b[0m\u001b[0mflip\u001b[0m\u001b[1;33m(\u001b[0m\u001b[0mg_new\u001b[0m\u001b[1;33m)\u001b[0m\u001b[1;33m)\u001b[0m\u001b[1;33m/\u001b[0m\u001b[0mWk\u001b[0m\u001b[1;33m/\u001b[0m\u001b[0mHk\u001b[0m\u001b[1;33m\u001b[0m\u001b[1;33m\u001b[0m\u001b[0m\n",
      "\u001b[1;31mValueError\u001b[0m: operands could not be broadcast together with shapes (400,1000) (401,1000) "
     ]
    }
   ],
   "source": [
    "# Perform cross-correlation between the image and the template\n",
    "out = zero_mean_cross_correlation(img2_grey, temp_grey)\n",
    "\n",
    "# Find the location with maximum similarity\n",
    "y, x = np.unravel_index(out.argmax(), out.shape)\n",
    "\n",
    "\n",
    "plt.figure(figsize=(30, 20))\n",
    "\n",
    "# Display product template\n",
    "plt.subplot(411), plt.imshow(temp), plt.title('Template'), plt.axis('off')\n",
    "\n",
    "# Display image\n",
    "plt.subplot(412), plt.imshow(img), plt.title('Result (blue marker on the detected location)'), plt.axis('off')\n",
    "\n",
    "# Display cross-correlation output\n",
    "plt.subplot(413), plt.imshow(out), plt.title('Cross-correlation (white means more correlated)'), plt.axis('off')\n",
    "\n",
    "# Draw marker at detcted location\n",
    "plt.subplot(414), plt.imshow(img2), plt.title('Result (blue marker on the detected location)'), plt.axis('off')\n",
    "plt.plot(x, y, 'bx', ms=40, mew=10)\n",
    "\n",
    "plt.show()"
   ]
  },
  {
   "cell_type": "code",
   "execution_count": null,
   "metadata": {},
   "outputs": [],
   "source": []
  },
  {
   "cell_type": "code",
   "execution_count": null,
   "metadata": {},
   "outputs": [],
   "source": []
  }
 ],
 "metadata": {
  "kernelspec": {
   "display_name": "Python 3",
   "language": "python",
   "name": "python3"
  },
  "language_info": {
   "codemirror_mode": {
    "name": "ipython",
    "version": 3
   },
   "file_extension": ".py",
   "mimetype": "text/x-python",
   "name": "python",
   "nbconvert_exporter": "python",
   "pygments_lexer": "ipython3",
   "version": "3.7.2"
  }
 },
 "nbformat": 4,
 "nbformat_minor": 2
}
