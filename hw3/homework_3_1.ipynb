{
 "cells": [
  {
   "cell_type": "markdown",
   "metadata": {},
   "source": [
    "# Homework 3 "
   ]
  },
  {
   "cell_type": "code",
   "execution_count": 2,
   "metadata": {},
   "outputs": [],
   "source": [
    "import numpy as np\n",
    "import cv2 \n",
    "import matplotlib.pyplot as plt\n",
    "\n",
    "plt.style.use('seaborn')\n",
    "%matplotlib inline"
   ]
  },
  {
   "cell_type": "markdown",
   "metadata": {},
   "source": [
    "# Задача №1 - Лес или пустыня?\n",
    "\n",
    "Часто при анализе изображений местности необходимо понять ее характер. В частности, если определить, что на изображении преобладет вода, то имеет смысл искать корабли на таком изображении. Если на картинке густой лес, то, возможно, это не лучшая зона для посадки дрона или беспилотника.\n",
    "\n",
    "Ваша задача - написать программу, которая будет отличать лес от пустыни. В приложении можно найти реальные спутниковые снимки лесов и пустынь.\n",
    "\n",
    "Примеры изображений:\n",
    "<table><tr>\n",
    "    <td> <img src=\"https://i.ibb.co/nmHHctW/test_image_00.jpg\" alt=\"Drawing\" style=\"width: 200px;\"/> </td>\n",
    "    <td> <img src=\"https://i.ibb.co/dM77C4b/test_image_06.jpg\" alt=\"Drawing\" style=\"width: 200px;\"/> </td>\n",
    "</tr></table>"
   ]
  },
  {
   "cell_type": "code",
   "execution_count": 15,
   "metadata": {},
   "outputs": [],
   "source": [
    "def des_or_for(image):\n",
    "    \"\"\"\n",
    "    :param image: исходное изображение (RGB)\n",
    "    :return: 1 - Пустыня, 0 - Лес\n",
    "    \"\"\"\n",
    "    gray = cv2.cvtColor(image.copy(), cv2.COLOR_RGB2GRAY)\n",
    "    hist = cv2.calcHist([image.ravel()], [0], None, [256], [0, 256])\n",
    "    if np.argmax(hist) < len(hist):\n",
    "        return 1\n",
    "    return 0"
   ]
  },
  {
   "cell_type": "code",
   "execution_count": 16,
   "metadata": {},
   "outputs": [],
   "source": [
    "image = cv2.imread('desert_forest/test_image_10.jpg')\n",
    "h, w, _ = image.shape\n",
    "image = cv2.resize(image.copy(), (w // 2, h // 2))\n",
    "image = cv2.cvtColor(image.copy(), cv2.COLOR_BGR2RGB)\n",
    "\n",
    "# grayscale\n",
    "gray = cv2.cvtColor(image.copy(), cv2.COLOR_RGB2GRAY)"
   ]
  },
  {
   "cell_type": "code",
   "execution_count": 17,
   "metadata": {},
   "outputs": [
    {
     "name": "stdout",
     "output_type": "stream",
     "text": [
      "It's desert\n"
     ]
    },
    {
     "data": {
      "image/png": "[encoded data removed]",
      "text/plain": [
       "<Figure size 432x288 with 1 Axes>"
      ]
     },
     "metadata": {
      "needs_background": "light"
     },
     "output_type": "display_data"
    }
   ],
   "source": [
    "plt.subplot(211)\n",
    "plt.imshow(image)\n",
    "plt.title('Исходное изображение'), plt.axis('off')\n",
    "if des_or_for(image):\n",
    "    print(\"It's desert\")\n",
    "else:\n",
    "    print(\"It's forest\")"
   ]
  },
  {
   "cell_type": "code",
   "execution_count": null,
   "metadata": {},
   "outputs": [],
   "source": [
    "for i in range()"
   ]
  },
  {
   "cell_type": "markdown",
   "metadata": {},
   "source": [
    "# Задача №2 - Кусочки пазла.\n",
    "\n",
    "Даны кусочки изображения, ваша задача склеить пазл в исходную картинку. \n",
    "\n",
    "Условия:\n",
    "* Дано исходное изображение для проверки, использовать собранное изображение в самом алгоритме нельзя;\n",
    "* Картинки имеют друг с другом пересечение;\n",
    "* После разрезки кусочки пазлов не были повернуты или отражены;\n",
    "* В качестве первого изображения, начиная с которого нужно собрать пазл, всегда принимается верхняя левая часть изображения;\n",
    "* В процессе проверки решения пазлы могут быть перемешаны, т.е. порядок пазлов в проверке может отличаться от исходного \n",
    "\n",
    "Примеры изображений:\n",
    "<img src=\"https://i.ibb.co/H78VtDb/image.jpg\" alt=\"Drawing\" style=\"width: 300px;\"/>\n",
    "<table><tr>\n",
    "    <td> <img src=\"https://i.ibb.co/Yh1dvJ8/image_part_002.jpg\" alt=\"Drawing\" style=\"width: 200px;\"/> </td>\n",
    "    <td> <img src=\"https://i.ibb.co/N9sCpjH/image_part_001.jpg\" alt=\"Drawing\" style=\"width: 200px;\"/> </td>\n",
    "    <td> <img src=\"https://i.ibb.co/jf1jGgD/image_part_004.jpg\" alt=\"Drawing\" style=\"width: 200px;\"/> </td>\n",
    "    <td> <img src=\"https://i.ibb.co/kBGYb8s/image_part_003.jpg\" alt=\"Drawing\" style=\"width: 200px;\"/> </td>\n",
    "</tr></table>"
   ]
  },
  {
   "cell_type": "code",
   "execution_count": null,
   "metadata": {},
   "outputs": [],
   "source": [
    "# Ваш код"
   ]
  },
  {
   "cell_type": "code",
   "execution_count": null,
   "metadata": {},
   "outputs": [],
   "source": []
  },
  {
   "cell_type": "markdown",
   "metadata": {},
   "source": [
    "# Задача №3 - Найди клетки\n",
    "\n",
    "Даны снимки раковых клеток. Существует задача - определить стадию рака клетки по такому изображению. Для того, чтобы подойти к решению классификации рака клетки, необходимо сначала подготовить данные.\n",
    "\n",
    "Исходные изображения в реальных задачах могут быть очень большого размера (более 20000 px). Однако из визуального анализа можно заметить, что большая часть этих снимков пустая и не несет в себе полезную информацию.\n",
    "\n",
    "Ваша задача выделить небольшие ячейки изображений из исходного так, чтобы на ячейках было только изображение клетки.\n",
    "\n",
    "Пример исходного изображения и нарезанных ячеек клетки.\n",
    "<img src=\"../img/cell_example.png\" alt=\"Drawing\" style=\"width: 500px;\"/>\n",
    "\n",
    "В качестве аргументов у функции будут значения:\n",
    "1. исходное изображние;\n",
    "2. размер ячейки;\n",
    "3. количество ячеек.\n",
    "\n",
    "__Доп вопрос__ - как можно выяснить какие нужны значения аргументов, чтобы они подходили для большинства исходных снимков?"
   ]
  },
  {
   "cell_type": "code",
   "execution_count": null,
   "metadata": {
    "ExecuteTime": {
     "end_time": "2020-07-15T04:47:11.011295Z",
     "start_time": "2020-07-15T04:47:11.007494Z"
    }
   },
   "outputs": [],
   "source": [
    "# Ваш код"
   ]
  },
  {
   "cell_type": "code",
   "execution_count": null,
   "metadata": {},
   "outputs": [],
   "source": []
  }
 ],
 "metadata": {
  "hide_input": false,
  "kernelspec": {
   "display_name": "Python 3",
   "language": "python",
   "name": "python3"
  },
  "language_info": {
   "codemirror_mode": {
    "name": "ipython",
    "version": 3
   },
   "file_extension": ".py",
   "mimetype": "text/x-python",
   "name": "python",
   "nbconvert_exporter": "python",
   "pygments_lexer": "ipython3",
   "version": "3.7.2"
  },
  "toc": {
   "base_numbering": 1,
   "nav_menu": {},
   "number_sections": true,
   "sideBar": true,
   "skip_h1_title": false,
   "title_cell": "Table of Contents",
   "title_sidebar": "Contents",
   "toc_cell": false,
   "toc_position": {},
   "toc_section_display": true,
   "toc_window_display": false
  },
  "varInspector": {
   "cols": {
    "lenName": 16,
    "lenType": 16,
    "lenVar": 40
   },
   "kernels_config": {
    "python": {
     "delete_cmd_postfix": "",
     "delete_cmd_prefix": "del ",
     "library": "var_list.py",
     "varRefreshCmd": "print(var_dic_list())"
    },
    "r": {
     "delete_cmd_postfix": ") ",
     "delete_cmd_prefix": "rm(",
     "library": "var_list.r",
     "varRefreshCmd": "cat(var_dic_list()) "
    }
   },
   "types_to_exclude": [
    "module",
    "function",
    "builtin_function_or_method",
    "instance",
    "_Feature"
   ],
   "window_display": false
  }
 },
 "nbformat": 4,
 "nbformat_minor": 4
}
