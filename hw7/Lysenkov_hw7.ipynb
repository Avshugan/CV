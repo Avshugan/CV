{
 "cells": [
  {
   "cell_type": "markdown",
   "id": "87a521b6-4d28-4921-b2ec-2465e6f46ca5",
   "metadata": {},
   "source": [
    "# Домашнее задание № 7 "
   ]
  },
  {
   "cell_type": "code",
   "execution_count": 1,
   "id": "6073c291",
   "metadata": {},
   "outputs": [],
   "source": [
    "import warnings\n",
    "warnings.filterwarnings(\"ignore\")\n",
    "\n",
    "from pathlib import Path\n",
    "\n",
    "import os\n",
    "import cv2\n",
    "import skimage\n",
    "import numpy as np\n",
    "from tqdm.auto import tqdm\n",
    "import matplotlib.pyplot as plt\n",
    "import time\n",
    "from scipy.spatial import distance\n",
    "import random\n",
    "\n",
    "from sklearn.ensemble import AdaBoostClassifier\n",
    "import joblib"
   ]
  },
  {
   "cell_type": "markdown",
   "id": "0d30cf95-80f0-432d-9053-4cb9776992ee",
   "metadata": {},
   "source": [
    "# Поиск объектов в видеопотоке "
   ]
  },
  {
   "cell_type": "markdown",
   "id": "642a5193-25dc-4df2-91b1-77860dac156f",
   "metadata": {
    "tags": []
   },
   "source": [
    "Задача - придумать и реализовать алгоритм поиска (обнаружения без классификации) движущихся объектов.\n",
    "\n",
    "В качестве исходных данных приведена выборка с видеофайлами и аннотацией для каждого кадра файла. Аннотация задана в виде ограничивающих прямоугольников в формате ```(y1,x1,y2,x2)```, где\n",
    "- ```(x1,y1)``` - верхний левый угол прямоугольника;\n",
    "- ```(x2,y2)``` - нижний правый угол прямоугольника.\n",
    "\n",
    "Ссылка на данные – https://disk.yandex.ru/d/RdjMDoQQO8Ngcw\n",
    "\n",
    "В качестве обучающей можно брать любые видеофайлы. При этом должны быть отдельно выбраны тестовые данные, которые не будут использованы в создании решения. \n",
    "\n",
    "Видеофайл с результатами работы алгоритма должен быть прикреплен вместе с решением. Пример фрагмента видеофайла с результатом поиска объектов приведен ниже.\n",
    "\n",
    "Исходный код может быть в формате ```.py``` или ```.ipynb```.\n",
    "\n",
    "![annotation](annot_example.gif \"annotation\")\n",
    "\n",
    "## Требования к результату\n",
    "- поиск должен находить геометрические место объекта на видеоизображении. Геометрическое место задано ограничивающим прямоугольником (bounding box);\n",
    "- продолжительность решения для любого одного видеофайла не должна превышать 10 минут;\n",
    "- должна быть приведена оценка точности решения;\n",
    "- привести демонстрацию результатов требется на одном из тестовых видеофайлов."
   ]
  },
  {
   "cell_type": "markdown",
   "id": "d273373b",
   "metadata": {},
   "source": [
    "# Немного функций для личного пользования "
   ]
  },
  {
   "cell_type": "code",
   "execution_count": 2,
   "id": "e600cad1",
   "metadata": {},
   "outputs": [],
   "source": [
    "# вспомогательная функция\n",
    "def plot_one_image(src_image, is_gray=False):\n",
    "    \"\"\"\n",
    "    Отрисовать с помощью plt исходное изображение.\n",
    "    \n",
    "    :param src_image: np.ndarray: исходное изображение\n",
    "    :param is_gray: bool: флаг для отображения ЧБ изображений\n",
    "    :return: None\n",
    "    \"\"\"\n",
    "    fig, m_axs = plt.subplots(1, 1, figsize=(6*2, 4*2), constrained_layout=True)\n",
    "    ax1 = m_axs\n",
    "\n",
    "    cmap = 'gray' if is_gray else None\n",
    "    ax1.set_title('Исходное изображение')\n",
    "    ax1.imshow(src_image, cmap=cmap)\n",
    "    ax1.set_xticks([]), ax1.set_yticks([])\n",
    "    plt.show()"
   ]
  },
  {
   "cell_type": "code",
   "execution_count": 3,
   "id": "1c147736",
   "metadata": {},
   "outputs": [],
   "source": [
    "def draw_points(image, points, rect=0, gray=False, draw=True):\n",
    "    color1 = (0, 0, 255)\n",
    "    color2 = (0, 255, 0)\n",
    "    output = image.copy()\n",
    "    if gray:\n",
    "        output = cv2.cvtColor(image.copy(), cv2.COLOR_GRAY2RGB)\n",
    "        \n",
    "    for point in points:\n",
    "        output = cv2.circle(output, point, 3, color1, -1)\n",
    "    \n",
    "    if type(rect) != int:\n",
    "        output = cv2.rectangle(output, rect[0], rect[1], color2)\n",
    "    \n",
    "    if draw:\n",
    "        plot_one_image(output)\n",
    "    return output"
   ]
  },
  {
   "cell_type": "code",
   "execution_count": 4,
   "id": "6fbc34ca",
   "metadata": {},
   "outputs": [],
   "source": [
    "def get_video_details(cap, do_print=True):\n",
    "    cnt = cap.get(cv2.CAP_PROP_FRAME_COUNT)\n",
    "    w = cap.get(cv2.CAP_PROP_FRAME_WIDTH)\n",
    "    h = cap.get(cv2.CAP_PROP_FRAME_HEIGHT)\n",
    "    fps = cap.get(cv2.CAP_PROP_FPS)\n",
    "\n",
    "    if do_print:\n",
    "        print(cnt, w, h, fps)\n",
    "    return cnt, w, h, fps"
   ]
  },
  {
   "cell_type": "code",
   "execution_count": 5,
   "id": "94f8ced6",
   "metadata": {},
   "outputs": [],
   "source": [
    "def get_video(num=-1, file_name=\"\", path='./Videos/Videos/'):\n",
    "    \"\"\"\n",
    "    Функция достающая видео\n",
    "    num - номер видео (если num == -1, то достаются все видео)\n",
    "    \n",
    "    \"\"\"\n",
    "    if file_name != \"\":\n",
    "        return cv2.VideoCapture(path+file_name)\n",
    "    \n",
    "    all_names = os.listdir(path)\n",
    "    names = []\n",
    "    for name in all_names:\n",
    "        if name.endswith(\".mov\") or name.endswith(\".mp4\"):\n",
    "            names.append(name)\n",
    "            \n",
    "    if num >= 0:\n",
    "        print(name)\n",
    "        name_vid = names[num]\n",
    "        return cv2.VideoCapture(path+name_vid)\n",
    "        \n",
    "        \n",
    "    videos = []\n",
    "    for name_vid in names:\n",
    "        videos.append(cv2.VideoCapture(path+name_vid))\n",
    "    return videos\n",
    "    "
   ]
  },
  {
   "cell_type": "code",
   "execution_count": 6,
   "id": "ec833a6b",
   "metadata": {},
   "outputs": [],
   "source": [
    "def create_video(save_dir, size, img_format='jpg', vido_format='avi'):\n",
    "    out_name = Path(save_dir).parts[-1]\n",
    "\n",
    "    fourcc = cv2.VideoWriter_fourcc(*'mp4v')\n",
    "    out = cv2.VideoWriter(str(Path(save_dir) / Path(f'{out_name}.{vido_format}')),\n",
    "                          fourcc, 20, tuple(size.astype(int)))\n",
    "\n",
    "    for fname in tqdm(sorted(map(str, Path(save_dir).glob(f'*.{img_format}')))):\n",
    "        imag = skimage.io.imread(fname)\n",
    "        imag = cv2.cvtColor(imag, cv2.COLOR_RGB2BGR)\n",
    "        out.write(imag)\n",
    "    out.release()"
   ]
  },
  {
   "cell_type": "code",
   "execution_count": 7,
   "id": "6c3b60f5",
   "metadata": {},
   "outputs": [],
   "source": [
    "def show_video(num=-1,path='./tmp/', sleep=0):\n",
    "    cap = get_video(num if num >=0 else 0, path=path)\n",
    "    get_video_details(cap)\n",
    "    cv2.startWindowThread()\n",
    "    while (cap.isOpened()):\n",
    "        is_ok, frame = cap.read()\n",
    "        if not is_ok:\n",
    "            break\n",
    "            \n",
    "        if sleep > 0:\n",
    "            time.sleep(sleep)\n",
    "\n",
    "        cv2.imshow(\"sparse optical flow\", frame)\n",
    "\n",
    "        if cv2.waitKey(1) & 0xFF == ord('q'):\n",
    "            break\n",
    "\n",
    "    cap.release()\n",
    "    cv2.destroyAllWindows()"
   ]
  },
  {
   "cell_type": "code",
   "execution_count": 8,
   "id": "b51587f9",
   "metadata": {},
   "outputs": [],
   "source": [
    "def save_clf(clf, filename='./clf.joblib.pkl'):\n",
    "    joblib.dump(clf, filename, compress=9)\n",
    "    \n",
    "def load_clf(filename='./clf.joblib.pkl'):\n",
    "    return joblib.load(filename)"
   ]
  },
  {
   "cell_type": "code",
   "execution_count": null,
   "id": "7f564b3f",
   "metadata": {},
   "outputs": [],
   "source": []
  },
  {
   "cell_type": "markdown",
   "id": "c38bd502",
   "metadata": {},
   "source": [
    "# Классы для загрузки анатации \n",
    "(что-то там не нужно, но раз сделано, то зачем удалять)"
   ]
  },
  {
   "cell_type": "code",
   "execution_count": 9,
   "id": "6faeda11",
   "metadata": {},
   "outputs": [],
   "source": [
    "class AnnotationRect:\n",
    "    def __init__(self, i, point1=None, point2=None):\n",
    "        self.i = i\n",
    "        self.x1 = point1[0] if point1 != None else -1 \n",
    "        self.y1 = point1[1] if point1 != None else -1 \n",
    "        self.x2 = point2[0] if point2 != None else -1 \n",
    "        self.y2 = point2[1] if point2 != None else -1 \n",
    "        \n",
    "    def get_w(self):\n",
    "        return self.x2 - self.x1\n",
    "\n",
    "    def get_h(self):\n",
    "        return self.y2 - self.y1\n",
    "    \n",
    "    def get_point1(self):\n",
    "        return np.array([self.x1, self.y1])\n",
    "    \n",
    "    def get_point2(self):\n",
    "        return np.array([self.x2, self.y2])\n",
    "    \n",
    "    def get_center(self):\n",
    "        return (self.get_point1() + self.get_point2())//2\n",
    "    \n",
    "    def set_point1(self, point):\n",
    "        self.x1 = point[0] \n",
    "        self.y1 = point[1]  \n",
    "        \n",
    "    def set_point2(self, point):\n",
    "        self.x2 = point[0] \n",
    "        self.y2 = point[1]\n",
    "        \n",
    "    def is_there(self):\n",
    "        return not(self.x1 == -1)"
   ]
  },
  {
   "cell_type": "code",
   "execution_count": 10,
   "id": "7e00de98",
   "metadata": {},
   "outputs": [],
   "source": [
    "class Annotation:\n",
    "    def get_annotation(self, file_name, path='./Videos/Annotation/'):\n",
    "        f = open(path+file_name, 'r')\n",
    "        \n",
    "        self.annotation = []\n",
    "        for string in f:\n",
    "            l = string.split()\n",
    "            self.annotation.append(AnnotationRect(l[1]))\n",
    "            if len(l) > 3:\n",
    "                self.annotation[-1].set_point1([int(l[4][:-1]), int(l[3][1:-1])])\n",
    "                self.annotation[-1].set_point2([int(l[6][:-2]), int(l[5][:-1])])\n",
    "\n",
    "        return self.annotation\n",
    "    \n",
    "    def show_annotation(cap, sleep=0):\n",
    "        color = (0, 255, 0)\n",
    "        cv2.startWindowThread()\n",
    "\n",
    "        i = 0\n",
    "        while (cap.isOpened()):\n",
    "            is_ok, frame = cap.read()\n",
    "            if not is_ok:\n",
    "                break\n",
    "\n",
    "            if sleep > 0:\n",
    "                time.sleep(sleep)\n",
    "\n",
    "            hsv_frame = cv2.cvtColor(frame.copy(), cv2.COLOR_BGR2HSV)\n",
    "            frame = cv2.rectangle(frame, self.annotation[i].get_point1(), self.annotation[i].get_point2(), color)\n",
    "\n",
    "            cv2.imshow(\"sparse optical flow\", frame)\n",
    "\n",
    "            if cv2.waitKey(1) & 0xFF == ord('q'):\n",
    "                break\n",
    "            i += 1\n",
    "\n",
    "        cap.release()\n",
    "        cv2.destroyAllWindows()\n",
    "        \n",
    "    def get_annotation_rect(self, idx):\n",
    "        return self.annotation[idx]\n",
    "    \n",
    "    def has_target(self, idx):\n",
    "        return self.annotation[idx].is_there()\n",
    "    \n",
    "    def get_max_annotation_rect_size(self):\n",
    "        max_w = max([rect.get_w() for rect in self.annotation])\n",
    "        max_h = max([rect.get_h() for rect in self.annotation])\n",
    "        return max_w, max_h"
   ]
  },
  {
   "cell_type": "code",
   "execution_count": null,
   "id": "9ad95e18",
   "metadata": {},
   "outputs": [],
   "source": []
  },
  {
   "cell_type": "code",
   "execution_count": null,
   "id": "9407eea1",
   "metadata": {},
   "outputs": [],
   "source": []
  },
  {
   "cell_type": "markdown",
   "id": "a8e59ab3",
   "metadata": {},
   "source": [
    "# Функции для поиска хороших для обработки точек\n",
    "Все работает через границы\n",
    "</p>Количество точек уменьшается за счет установки минимального расстояния между ними\n",
    "</p></p> PS: эта функция используется как при тренировке классификатора, так и для обработки видио, так что принимает классификатор (clf), как параметр с None по умолчанию\n",
    "</p></p>PS2: число 0.513 подобрано, я без понятия, почему он так плохо видит модельку, так как если поставить хотя бы 0.52 то он скажет что ничего нет, а если поставить меньше, то он все облака возьмет примет за самолет"
   ]
  },
  {
   "cell_type": "code",
   "execution_count": 11,
   "id": "f54c7a41",
   "metadata": {},
   "outputs": [],
   "source": [
    "def get_border_mask(gray):\n",
    "    temp = cv2.GaussianBlur(gray, (5,5), 0)\n",
    "    kernel = np.ones((3, 3), np.uint8)\n",
    "    mask = skimage.feature.canny(gray, sigma=0.5)\n",
    "    return mask"
   ]
  },
  {
   "cell_type": "code",
   "execution_count": 12,
   "id": "97934950",
   "metadata": {},
   "outputs": [],
   "source": [
    "def point_in_rect(rect_points, point):\n",
    "    p1, p2 = rect_points\n",
    "    return np.all(point >= p1) and np.all(point <= p2)"
   ]
  },
  {
   "cell_type": "code",
   "execution_count": 13,
   "id": "8a1603e5",
   "metadata": {},
   "outputs": [],
   "source": [
    "def get_good_points(frame, min_dist=20, clf=None, len_side=None):\n",
    "    h, w, _ = frame.shape\n",
    "    hsv_frame = cv2.cvtColor(frame.copy(), cv2.COLOR_BGR2HSV)\n",
    "    gray = cv2.cvtColor(frame.copy(), cv2.COLOR_BGR2GRAY)\n",
    "    \n",
    "    res_mask = get_border_mask(gray)\n",
    "    not_green_mask = hsv_frame[:,:,0] > 100\n",
    "    res_mask &= not_green_mask\n",
    "    \n",
    "    stick_mask = np.ones(gray.shape).astype(bool)\n",
    "    stick_mask[h*20//40: h*28//40+1, 0:w*15//90+1] = 0\n",
    "    res_mask &= stick_mask\n",
    "    \n",
    "    edge_mask = np.ones(gray.shape).astype(bool)\n",
    "    edge_mask[0:min_dist+1, :] = 0\n",
    "    edge_mask[:, 0:min_dist+1] = 0\n",
    "    edge_mask[h-min_dist-2:, :] = 0\n",
    "    edge_mask[:, w-min_dist-2:] = 0\n",
    "    res_mask &= edge_mask\n",
    "    \n",
    "    p = np.where(res_mask > 0)\n",
    "    y = p[0]\n",
    "    x = p[1]\n",
    "    all_points = np.array(list(zip(x, y)))\n",
    "    \n",
    "    points = np.array([all_points[0]])\n",
    "    \n",
    "    for point in all_points:\n",
    "        if np.min(np.abs(points[:,0] - point[0]) + np.abs(points[:,1] - point[1])) > min_dist//2:\n",
    "            points = np.r_[points, [point]] \n",
    "    \n",
    "    if clf:\n",
    "        points_slice = []\n",
    "        for point in points:\n",
    "            points_slice.append(frame[point[1]-len_side//2: point[1]+len_side//2+1, \n",
    "                                        point[0]-len_side//2: point[0]+len_side//2+1].ravel())\n",
    "        points_slice = np.array(points_slice)\n",
    "        target = clf.predict_proba(points_slice)\n",
    "        target = target[:,1] > 0.513\n",
    "        points = points[target]\n",
    "    \n",
    "    points = np.array([np.float32(point) for point in points])\n",
    "    return points"
   ]
  },
  {
   "cell_type": "code",
   "execution_count": null,
   "id": "7926902c",
   "metadata": {},
   "outputs": [],
   "source": []
  },
  {
   "cell_type": "code",
   "execution_count": null,
   "id": "6f18ed33",
   "metadata": {},
   "outputs": [],
   "source": []
  },
  {
   "cell_type": "markdown",
   "id": "5880a596",
   "metadata": {},
   "source": [
    "# Функции для создания и тренировки классификатора\n",
    "Использован AdaBoostClassifier, почему не скажу (первое что пришло в голову)"
   ]
  },
  {
   "cell_type": "code",
   "execution_count": 14,
   "id": "09d8681c",
   "metadata": {},
   "outputs": [],
   "source": [
    "def get_train_data(names_vid, names_ann, max_idx=-1):\n",
    "    file_names_vid = []\n",
    "    if type(names_vid) != list:\n",
    "        file_names_vid = [names_vid]\n",
    "    else:\n",
    "        file_names_vid = names_vid\n",
    "    \n",
    "    file_names_ann = []\n",
    "    if type(names_ann) != list:\n",
    "        file_names_ann = [names_ann]\n",
    "    else:\n",
    "        file_names_ann = names_ann\n",
    "        \n",
    "    all_time = []\n",
    "    targets_slices = []\n",
    "    other_slices = []\n",
    "    annotations = []\n",
    "    len_side = 0\n",
    "    for i, name_ann in enumerate(file_names_ann):\n",
    "        annotations.append(Annotation())\n",
    "        annotations[-1].get_annotation(name_ann)\n",
    "        an_w, an_h = annotations[-1].get_max_annotation_rect_size()\n",
    "        temp = max(an_w,an_h)\n",
    "        len_side = temp if len_side<temp else len_side\n",
    "        \n",
    "    for i, annotation in enumerate(annotations):\n",
    "        cap = get_video(file_name=file_names_vid[i])\n",
    "        cnt, w, h, fps = get_video_details(cap)\n",
    "        cnt = int(cnt)\n",
    "        \n",
    "        for idx in tqdm(range(cnt)):\n",
    "            if not cap.isOpened():\n",
    "                break\n",
    "            if max_idx > 0 and idx > max_idx:\n",
    "                break\n",
    "\n",
    "            is_ok, frame = cap.read()\n",
    "            if not is_ok:\n",
    "                break\n",
    "\n",
    "            gray = cv2.cvtColor(frame.copy(), cv2.COLOR_BGR2GRAY)\n",
    "\n",
    "            if annotation.has_target(idx):\n",
    "                t1 = time.time()\n",
    "                prev = get_good_points(frame, min_dist=len_side//2)\n",
    "\n",
    "                center_points = np.array([np.int32(point) for point in prev])\n",
    "                t2 = time.time()\n",
    "\n",
    "                target_points = []\n",
    "                other_points = []\n",
    "                rect = annotation.get_annotation_rect(idx)\n",
    "\n",
    "                for i, point in enumerate(center_points):\n",
    "                    add_r = np.array([2,2])\n",
    "                    if point_in_rect([rect.get_point1()-add_r, rect.get_point2()+add_r], point):\n",
    "                        target_points.append(point)\n",
    "                    else:\n",
    "                        other_points.append(point)\n",
    "\n",
    "                for point in target_points:\n",
    "                    targets_slices.append(frame[point[1]-len_side//2: point[1]+len_side//2+1, \n",
    "                                               point[0]-len_side//2: point[0]+len_side//2+1].ravel())\n",
    "\n",
    "                other_points = random.choices(other_points, k=len(target_points))\n",
    "                for point in other_points:\n",
    "                    other_slices.append(frame[point[1]-len_side//2: point[1]+len_side//2+1, \n",
    "                                             point[0]-len_side//2: point[0]+len_side//2+1].ravel())\n",
    "                t3 = time.time()\n",
    "                all_time.append(t3-t1)\n",
    "            else:\n",
    "                all_time.append(0)\n",
    "             \n",
    "    len_side = (len_side//2)*2+1\n",
    "    return targets_slices, other_slices, len_side, all_time"
   ]
  },
  {
   "cell_type": "code",
   "execution_count": 15,
   "id": "1f68e018",
   "metadata": {},
   "outputs": [],
   "source": [
    "def train_model(targets_slices, other_slices, len_side): \n",
    "    print('len target', len(targets_slices))\n",
    "    print('len other', len(other_slices)) \n",
    "    \n",
    "    count = len(targets_slices)\n",
    "    \n",
    "    targets_slices = np.array(targets_slices)\n",
    "    other_slices = np.array(other_slices)\n",
    "    \n",
    "    X = np.r_[targets_slices, other_slices]\n",
    "    y = np.zeros(count*2)\n",
    "    y[:count+1] = 1\n",
    "\n",
    "    clf = AdaBoostClassifier(n_estimators=100, random_state=0)\n",
    "    clf.fit(X, y)\n",
    "    \n",
    "    return clf"
   ]
  },
  {
   "cell_type": "markdown",
   "id": "55d4e4fe",
   "metadata": {},
   "source": [
    "### Этот код запускать не нужно, если есть файл с сохраненным классификатором \n",
    "(надеюсь он работает, я просто его запускал только 1 раз) "
   ]
  },
  {
   "cell_type": "code",
   "execution_count": 16,
   "id": "1a51ba38",
   "metadata": {
    "scrolled": false
   },
   "outputs": [],
   "source": [
    "# targets_slices, other_slices, len_side, all_time = get_train_data(['Clip_6.mov', 'Clip_7.mov', \n",
    "#                                                                    'Clip_8.mov', 'Clip_9.mov'],\n",
    "#                                                                   ['Clip_6_gt.txt', 'Clip_7_gt.txt', \n",
    "#                                                                    'Clip_8_gt.txt', 'Clip_9_gt.txt'], \n",
    "#                                                                   max_idx=-1)\n",
    "# model = train_model(targets_slices, other_slices, len_side)\n",
    "# save_clf(model)"
   ]
  },
  {
   "cell_type": "code",
   "execution_count": null,
   "id": "3c09c5c6",
   "metadata": {},
   "outputs": [],
   "source": []
  },
  {
   "cell_type": "markdown",
   "id": "a09a5336",
   "metadata": {},
   "source": [
    "# Функция поиска самолетика"
   ]
  },
  {
   "cell_type": "code",
   "execution_count": 17,
   "id": "0a23c7bd",
   "metadata": {},
   "outputs": [],
   "source": [
    "def get_len_side(names_vid, names_ann):\n",
    "    file_names_vid = []\n",
    "    if type(names_vid) != list:\n",
    "        file_names_vid = [names_vid]\n",
    "    else:\n",
    "        file_names_vid = names_vid\n",
    "    \n",
    "    file_names_ann = []\n",
    "    if type(names_ann) != list:\n",
    "        file_names_ann = [names_ann]\n",
    "    else:\n",
    "        file_names_ann = names_ann\n",
    "        \n",
    "    len_side = 0\n",
    "    for i, name_ann in enumerate(file_names_ann):\n",
    "        annotation = Annotation()\n",
    "        annotation.get_annotation(name_ann)\n",
    "        an_w, an_h = annotation.get_max_annotation_rect_size()\n",
    "        temp = max(an_w,an_h)\n",
    "        len_side = temp if len_side<temp else len_side\n",
    "    \n",
    "    return len_side"
   ]
  },
  {
   "cell_type": "code",
   "execution_count": 18,
   "id": "20dcc4cf",
   "metadata": {},
   "outputs": [],
   "source": [
    "def get_trajectory(cap, model, len_side, max_idx=-1, path='tmp/'):\n",
    "    cnt, w, h, fps = get_video_details(cap)\n",
    "    cnt = int(cnt)\n",
    "    color = (0, 255, 0)\n",
    "    all_time = []\n",
    "    for idx in tqdm(range(cnt)):\n",
    "        if not cap.isOpened():\n",
    "            break\n",
    "        if max_idx > 0 and idx > max_idx:\n",
    "            break\n",
    "        is_ok, frame = cap.read()\n",
    "        if not is_ok:\n",
    "            break\n",
    "        \n",
    "        t1 = time.time()\n",
    "        \n",
    "        prev = get_good_points(frame.copy(), min_dist=len_side//2, clf=model, len_side=len_side)\n",
    "        if len(prev) == 0:\n",
    "            cv2.imwrite(f'tmp/frame_{str(idx).zfill(4)}.jpg', frame.copy())\n",
    "            continue\n",
    "            \n",
    "        points = np.array([point.astype(np.int32) for point in prev])\n",
    "        good_points = points.copy()\n",
    "        if len(points) > 1:\n",
    "            dists = distance.cdist(points, points, 'euclidean')\n",
    "            np.fill_diagonal(dists, 2*len_side)\n",
    "            good_points = points[np.any(dists < len_side, axis=1)]\n",
    "            \n",
    "        center = good_points.mean(axis=0)\n",
    "        center = np.int32(center)\n",
    "        rect_point1 = center - len_side//2\n",
    "        rect_point2 = center + len_side//2\n",
    "        output = draw_points(frame.copy(), [], [rect_point1, rect_point2], draw=False)\n",
    " \n",
    "        cv2.imwrite(f'{path}frame_{str(idx).zfill(4)}.jpg', output.copy())\n",
    "        t2 = time.time() \n",
    "        all_time.append(t2-t1)\n",
    "    cap.release()\n",
    "    return all_time"
   ]
  },
  {
   "cell_type": "markdown",
   "id": "27030ba4",
   "metadata": {},
   "source": [
    "200 - количество кадров для обработки ( ~~дальше просто все неособо~~  просто, чтобы время не тратить) \n",
    "</p> load_clf загрузит классификатор из файла"
   ]
  },
  {
   "cell_type": "code",
   "execution_count": 19,
   "id": "386043b5",
   "metadata": {
    "scrolled": false
   },
   "outputs": [
    {
     "name": "stdout",
     "output_type": "stream",
     "text": [
      "1800.0 1920.0 1080.0 29.97\n"
     ]
    },
    {
     "name": "stderr",
     "output_type": "stream",
     "text": [
      " 11%|████████▊                                                                      | 201/1800 [06:54<54:53,  2.06s/it]\n"
     ]
    }
   ],
   "source": [
    "model = load_clf()\n",
    "len_side = get_len_side(['Clip_6.mov', 'Clip_7.mov','Clip_8.mov', 'Clip_9.mov'],\n",
    "                        ['Clip_6_gt.txt', 'Clip_7_gt.txt', 'Clip_8_gt.txt', 'Clip_9_gt.txt'])\n",
    "cap = get_video(file_name='Clip_5.mov')\n",
    "all_time = get_trajectory(cap, model, len_side, 200)"
   ]
  },
  {
   "cell_type": "code",
   "execution_count": 20,
   "id": "9f8c4c0f",
   "metadata": {},
   "outputs": [
    {
     "data": {
      "text/plain": [
       "[<matplotlib.lines.Line2D at 0x20200665790>]"
      ]
     },
     "execution_count": 20,
     "metadata": {},
     "output_type": "execute_result"
    },
    {
     "data": {
      "image/png": "[encoded data removed]",
      "text/plain": [
       "<Figure size 640x480 with 1 Axes>"
      ]
     },
     "metadata": {},
     "output_type": "display_data"
    }
   ],
   "source": [
    "plt.plot(all_time)"
   ]
  },
  {
   "cell_type": "code",
   "execution_count": 21,
   "id": "21a5f809",
   "metadata": {},
   "outputs": [
    {
     "name": "stderr",
     "output_type": "stream",
     "text": [
      "100%|████████████████████████████████████████████████████████████████████████████████| 201/201 [00:09<00:00, 21.93it/s]\n"
     ]
    }
   ],
   "source": [
    "create_video('tmp', size=np.array((1920.0 , 1080.0)), vido_format='mp4')"
   ]
  },
  {
   "cell_type": "code",
   "execution_count": 22,
   "id": "d5bc0b26",
   "metadata": {},
   "outputs": [
    {
     "name": "stdout",
     "output_type": "stream",
     "text": [
      "tmp.mp4\n",
      "201.0 1920.0 1080.0 20.0\n"
     ]
    }
   ],
   "source": [
    "show_video(sleep=0.1)"
   ]
  },
  {
   "cell_type": "markdown",
   "id": "6a87f1a6",
   "metadata": {},
   "source": [
    "Ну в общем, что-то хорошее получилось"
   ]
  },
  {
   "cell_type": "code",
   "execution_count": null,
   "id": "70b64678",
   "metadata": {},
   "outputs": [],
   "source": []
  }
 ],
 "metadata": {
  "kernelspec": {
   "display_name": "gpu2",
   "language": "python",
   "name": "gpu2"
  },
  "language_info": {
   "codemirror_mode": {
    "name": "ipython",
    "version": 3
   },
   "file_extension": ".py",
   "mimetype": "text/x-python",
   "name": "python",
   "nbconvert_exporter": "python",
   "pygments_lexer": "ipython3",
   "version": "3.9.15"
  }
 },
 "nbformat": 4,
 "nbformat_minor": 5
}
